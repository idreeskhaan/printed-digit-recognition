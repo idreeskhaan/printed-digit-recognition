{
 "cells": [
  {
   "cell_type": "markdown",
   "metadata": {},
   "source": [
    "## Import Libraries\n"
   ]
  },
  {
   "cell_type": "code",
   "execution_count": 3,
   "metadata": {},
   "outputs": [],
   "source": [
    "from matplotlib import pyplot as plt\n",
    "from PIL import Image\n",
    "import numpy as np\n",
    "import tensorflow as tf\n",
    "%matplotlib inline"
   ]
  },
  {
   "cell_type": "markdown",
   "metadata": {},
   "source": [
    "## Create Training DataSet from PNG Images"
   ]
  },
  {
   "cell_type": "code",
   "execution_count": 4,
   "metadata": {},
   "outputs": [],
   "source": [
    "def create_dataset():\n",
    "    X=np.zeros((45,10))\n",
    "    for i in range(10):\n",
    "        image_path= 'hand_digits/'+str(i)+'.PNG' #image path\n",
    "        image = Image.open(image_path) #import the images into python\n",
    "        image= image. convert('1')  #Converts image into binary format\n",
    "        image= image.resize((5,9), resample=0) #Reshaps image into 5,9 size\n",
    "        pix_val = np.array(list(image.getdata())).astype('float32') / 255.0 #normalized pixel values\n",
    "        X[:,i]=pix_val #store each pixel into X\n",
    "    \n",
    "    return X\n",
    "       \n",
    "X_train= create_dataset() #calls the create_dataset() to get the training data\n",
    "X_train[:,1]=np.array([1,1,0,1,1, 1,0,0,1,1, 0,1,0,1,1,1,1,0,1,1,1,1,0,1,1,1,1,0,1,1,1,1,0,1,1,1,1,0,1,1,1,1,0,1,1]) #since digit 1 has a lot of noise\n",
    "X_train= np.transpose(X_train) #takes transpose to convert to (10,45)\n",
    "Y_train= np.array([0,1,2,3,4,5,6,7,8,9]) #Y_train contains the true labels for each digit\n"
   ]
  },
  {
   "cell_type": "markdown",
   "metadata": {},
   "source": [
    "## Plot the Bitmap Images to Visualize the Training Data Set"
   ]
  },
  {
   "cell_type": "code",
   "execution_count": 16,
   "metadata": {},
   "outputs": [
    {
     "data": {
      "image/png": "[encoded data removed]",
      "text/plain": [
       "<Figure size 1440x1440 with 10 Axes>"
      ]
     },
     "metadata": {
      "needs_background": "light"
     },
     "output_type": "display_data"
    }
   ],
   "source": [
    "fig, ax= plt.subplots(1,10,figsize=(20,20)) #10 axes for individual figures\n",
    "for i in range(10): \n",
    "    ax[i].imshow(X_train[i].reshape(9,5))  #plot each image"
   ]
  },
  {
   "cell_type": "markdown",
   "metadata": {},
   "source": [
    "## Build the ANN Model"
   ]
  },
  {
   "cell_type": "code",
   "execution_count": 17,
   "metadata": {},
   "outputs": [
    {
     "name": "stdout",
     "output_type": "stream",
     "text": [
      "Model: \"model_1\"\n",
      "_________________________________________________________________\n",
      " Layer (type)                Output Shape              Param #   \n",
      "=================================================================\n",
      " input_2 (InputLayer)        [(None, 45)]              0         \n",
      "                                                                 \n",
      " dense_2 (Dense)             (None, 5)                 230       \n",
      "                                                                 \n",
      " dense_3 (Dense)             (None, 10)                60        \n",
      "                                                                 \n",
      "=================================================================\n",
      "Total params: 290\n",
      "Trainable params: 290\n",
      "Non-trainable params: 0\n",
      "_________________________________________________________________\n"
     ]
    }
   ],
   "source": [
    "\n",
    "#Define the model by specifying layers and activation func etc\n",
    "inputs= tf.keras.Input(shape=(45)) #input layer\n",
    "x= tf.keras.layers.Dense(5, activation='relu')(inputs) #Hidden layer\n",
    "outputs= tf.keras.layers.Dense(10, activation='softmax')(x) #Output layer\n",
    "model= tf.keras.Model(inputs=inputs, outputs= outputs) #creates the model\n",
    "\n",
    "#Compile the Model and specify the Type of Loss, Optimizer and Metrics\n",
    "model.compile(loss= tf.keras.losses.SparseCategoricalCrossentropy(from_logits=False),\n",
    "    optimizer=tf.keras.optimizers.Adam(learning_rate=0.01),\n",
    "    metrics= ['Accuracy']\n",
    ")\n",
    "model.summary()"
   ]
  },
  {
   "cell_type": "markdown",
   "metadata": {},
   "source": [
    "## Run the Gradient Descent"
   ]
  },
  {
   "cell_type": "code",
   "execution_count": 1,
   "metadata": {},
   "outputs": [],
   "source": [
    "#result= model.fit(X_train,Y_train,epochs=300, batch_size=10, verbose='auto')\n"
   ]
  },
  {
   "cell_type": "markdown",
   "metadata": {},
   "source": [
    "## Plot the Loss and Accuracy"
   ]
  },
  {
   "cell_type": "code",
   "execution_count": 19,
   "metadata": {},
   "outputs": [
    {
     "data": {
      "text/plain": [
       "<matplotlib.legend.Legend at 0x287a09df310>"
      ]
     },
     "execution_count": 19,
     "metadata": {},
     "output_type": "execute_result"
    },
    {
     "data": {
      "image/png": "[encoded data removed]",
      "text/plain": [
       "<Figure size 432x288 with 1 Axes>"
      ]
     },
     "metadata": {
      "needs_background": "light"
     },
     "output_type": "display_data"
    }
   ],
   "source": [
    "accuracy_hist= result.history['Accuracy']\n",
    "loss_hist= result.history['loss']\n",
    "plt.plot(accuracy_hist)\n",
    "plt.plot(loss_hist)\n",
    "plt.xlabel('Epoches')\n",
    "plt.title('Accuracy and Loss')\n",
    "plt.legend(['Accuracy', 'Loss'])"
   ]
  },
  {
   "cell_type": "markdown",
   "metadata": {},
   "source": [
    "## Evaluate and Save the Model"
   ]
  },
  {
   "cell_type": "code",
   "execution_count": 23,
   "metadata": {},
   "outputs": [
    {
     "name": "stdout",
     "output_type": "stream",
     "text": [
      "1/1 [==============================] - 0s 16ms/step - loss: 0.3386 - Accuracy: 1.0000\n",
      "0\n",
      "1\n",
      "2\n",
      "3\n",
      "4\n",
      "5\n",
      "6\n",
      "7\n",
      "8\n",
      "9\n"
     ]
    }
   ],
   "source": [
    "#model.save('hand_digit_recognition_final.model')\n",
    "model.evaluate(X_train,Y_train)\n",
    "predictions= model.predict([X_train])\n",
    "for element in predictions:\n",
    "    print(np.argmax(element))"
   ]
  },
  {
   "cell_type": "markdown",
   "metadata": {},
   "source": [
    "## Add Noise into the Data to get Test Set"
   ]
  },
  {
   "cell_type": "code",
   "execution_count": 89,
   "metadata": {},
   "outputs": [
    {
     "data": {
      "image/png": "[encoded data removed]",
      "text/plain": [
       "<Figure size 1440x1440 with 10 Axes>"
      ]
     },
     "metadata": {
      "needs_background": "light"
     },
     "output_type": "display_data"
    },
    {
     "data": {
      "image/png": "[encoded data removed]",
      "text/plain": [
       "<Figure size 1440x1440 with 10 Axes>"
      ]
     },
     "metadata": {
      "needs_background": "light"
     },
     "output_type": "display_data"
    },
    {
     "data": {
      "image/png": "[encoded data removed]",
      "text/plain": [
       "<Figure size 1440x1440 with 10 Axes>"
      ]
     },
     "metadata": {
      "needs_background": "light"
     },
     "output_type": "display_data"
    }
   ],
   "source": [
    "#generate 30 different examples for the test set.\n",
    "X_test1= X_train - np.floor(1.1*np.random.rand(10,45))*X_train #adds noise with a given amplitude\n",
    "X_test2= X_train - np.floor(1.2*np.random.rand(10,45))*X_train #adds noise with a given amplitude\n",
    "X_test3= X_train - np.floor(1.3*np.random.rand(10,45))*X_train #adds noise with a given amplitude\n",
    "\n",
    "fig1, ax1= plt.subplots(1,10,figsize=(20,20)) #fig for first 10 test sets\n",
    "fig2, ax2= plt.subplots(1,10,figsize=(20,20)) #fig for 11 - 20 test sets\n",
    "fig3, ax3= plt.subplots(1,10,figsize=(20,20)) #fig for 20 - 30 test sets\n",
    "\n",
    "for i in range(10):\n",
    "    ax1[i].imshow(X_test1[i].reshape(9,5)) #plot the test set\n",
    "\n",
    "for i in range(10):\n",
    "    ax2[i].imshow(X_test2[i].reshape(9,5)) #plot the test set\n",
    "    \n",
    "for i in range(10):\n",
    "    ax3[i].imshow(X_test3[i].reshape(9,5)) #plot the test set\n"
   ]
  },
  {
   "cell_type": "markdown",
   "metadata": {},
   "source": [
    "## Evaluate the Test Cases"
   ]
  },
  {
   "cell_type": "code",
   "execution_count": 96,
   "metadata": {},
   "outputs": [
    {
     "name": "stdout",
     "output_type": "stream",
     "text": [
      "1/1 [==============================] - 0s 17ms/step - loss: 0.7183 - Accuracy: 0.9000\n",
      "1/1 [==============================] - 0s 16ms/step - loss: 1.3495 - Accuracy: 0.7000\n",
      "1/1 [==============================] - 0s 19ms/step - loss: 1.4176 - Accuracy: 0.6000\n",
      "Truth    TS1    TS2       TS3\n",
      "0         9       6        8       \n",
      "1         1       7        5       \n",
      "2         2       2        3       \n",
      "3         3       3        3       \n",
      "4         4       4        4       \n",
      "5         5       5        5       \n",
      "6         6       6        6       \n",
      "7         7       7        7       \n",
      "8         8       9        6       \n",
      "9         9       9        9       \n"
     ]
    }
   ],
   "source": [
    "model.evaluate(X_test1,Y_train)\n",
    "model.evaluate(X_test2,Y_train)\n",
    "model.evaluate(X_test3,Y_train)\n",
    "predictions1= model.predict([X_test1])\n",
    "predictions2= model.predict([X_test2])\n",
    "predictions3= model.predict([X_test3])\n",
    "\n",
    "print(\"Truth    TS1    TS2       TS3\")\n",
    "for element in range(10):\n",
    "    print(str(element) + '         ' +str(np.argmax(predictions1[element])) + '       ' + \n",
    "    str(np.argmax(predictions2[element])) + '        ' + \n",
    "    str(np.argmax(predictions3[element])) + '       '\n",
    "    )"
   ]
  },
  {
   "cell_type": "code",
   "execution_count": 165,
   "metadata": {},
   "outputs": [
    {
     "name": "stdout",
     "output_type": "stream",
     "text": [
      "1/1 [==============================] - 0s 16ms/step - loss: 1.1618 - Accuracy: 0.7333\n",
      "Truth    Predict\n",
      "0         9\n",
      "1         1\n",
      "2         2\n",
      "3         3\n",
      "4         4\n",
      "5         5\n",
      "6         6\n",
      "7         7\n",
      "8         8\n",
      "9         9\n",
      "0         6\n",
      "1         7\n",
      "2         2\n",
      "3         3\n",
      "4         4\n",
      "5         5\n",
      "6         6\n",
      "7         7\n",
      "8         9\n",
      "9         9\n",
      "0         8\n",
      "1         5\n",
      "2         3\n",
      "3         3\n",
      "4         4\n",
      "5         5\n",
      "6         6\n",
      "7         7\n",
      "8         6\n",
      "9         9\n"
     ]
    }
   ],
   "source": [
    "X_test= np.zeros((30,45))\n",
    "Y_test= np.zeros((30,))\n",
    "X_test[0:10,:]= X_test1\n",
    "X_test[10:20,:]= X_test2\n",
    "X_test[20:30,:]= X_test3\n",
    "Y_test[0:10]= Y_train\n",
    "Y_test[10:20]= Y_train\n",
    "Y_test[20:30]= Y_train\n",
    "predictions= model.predict([X_test])\n",
    "\n",
    "#evaluate and Predict\n",
    "model.evaluate(X_test,Y_test)\n",
    "print(\"Truth    Predict\")\n",
    "for element in range(30):\n",
    "    print(str(int(Y_test[element])) + '         ' +str(np.argmax(predictions[element])))\n"
   ]
  },
  {
   "cell_type": "markdown",
   "metadata": {},
   "source": [
    "## Predict using a CNN"
   ]
  },
  {
   "cell_type": "code",
   "execution_count": 9,
   "metadata": {},
   "outputs": [
    {
     "name": "stdout",
     "output_type": "stream",
     "text": [
      "Model: \"model_2\"\n",
      "_________________________________________________________________\n",
      " Layer (type)                Output Shape              Param #   \n",
      "=================================================================\n",
      " input_3 (InputLayer)        [(None, 9, 5, 1)]         0         \n",
      "                                                                 \n",
      " conv2d_4 (Conv2D)           (None, 9, 5, 3)           6         \n",
      "                                                                 \n",
      " max_pooling2d_4 (MaxPooling  (None, 9, 5, 3)          0         \n",
      " 2D)                                                             \n",
      "                                                                 \n",
      " conv2d_5 (Conv2D)           (None, 5, 1, 2)           152       \n",
      "                                                                 \n",
      " max_pooling2d_5 (MaxPooling  (None, 5, 1, 2)          0         \n",
      " 2D)                                                             \n",
      "                                                                 \n",
      " flatten_2 (Flatten)         (None, 10)                0         \n",
      "                                                                 \n",
      " dense_2 (Dense)             (None, 10)                110       \n",
      "                                                                 \n",
      "=================================================================\n",
      "Total params: 268\n",
      "Trainable params: 268\n",
      "Non-trainable params: 0\n",
      "_________________________________________________________________\n"
     ]
    }
   ],
   "source": [
    "inputs= tf.keras.Input(shape=(9,5,1))\n",
    "x= tf.keras.layers.Conv2D(3, (1,1), padding='valid', activation='relu')(inputs)\n",
    "x= tf.keras.layers.MaxPooling2D(pool_size=(1,1))(x)\n",
    "x= tf.keras.layers.Conv2D(2, (5,5), padding='valid', activation='relu')(x)\n",
    "x= tf.keras.layers.MaxPooling2D(pool_size=(1,1))(x)\n",
    "x= tf.keras.layers.Flatten()(x)\n",
    "outputs= tf.keras.layers.Dense(10, activation='softmax')(x)\n",
    "model_CNN= tf.keras.Model(inputs=inputs, outputs= outputs)\n",
    "\n",
    "#Compile the Model and specify the Type of Loss, Optimizer and Metrics\n",
    "model_CNN.compile(loss= tf.keras.losses.SparseCategoricalCrossentropy(from_logits=False),\n",
    "    optimizer=tf.keras.optimizers.Adam(learning_rate=0.001),\n",
    "    metrics= ['Accuracy']\n",
    ")\n",
    "model_CNN.summary()"
   ]
  },
  {
   "cell_type": "code",
   "execution_count": 11,
   "metadata": {},
   "outputs": [
    {
     "data": {
      "text/plain": [
       "<matplotlib.legend.Legend at 0x216d81cd850>"
      ]
     },
     "execution_count": 11,
     "metadata": {},
     "output_type": "execute_result"
    },
    {
     "data": {
      "image/png": "[encoded data removed]",
      "text/plain": [
       "<Figure size 432x288 with 1 Axes>"
      ]
     },
     "metadata": {
      "needs_background": "light"
     },
     "output_type": "display_data"
    }
   ],
   "source": [
    "X_train_CNN= X_train.reshape(-1, 9,5)\n",
    "#result= model_CNN.fit(X_train_CNN,Y_train,epochs=300, batch_size=10, verbose='auto')\n",
    "accuracy_hist= result.history['Accuracy']\n",
    "loss_hist= result.history['loss']\n",
    "plt.plot(accuracy_hist)\n",
    "plt.plot(loss_hist)\n",
    "plt.xlabel('Epoches')\n",
    "plt.title('Accuracy and Loss')\n",
    "plt.legend(['Accuracy', 'Loss'])"
   ]
  },
  {
   "cell_type": "markdown",
   "metadata": {},
   "source": [
    "## Evaluate CNN on Training Set"
   ]
  },
  {
   "cell_type": "code",
   "execution_count": 427,
   "metadata": {},
   "outputs": [
    {
     "name": "stdout",
     "output_type": "stream",
     "text": [
      "INFO:tensorflow:Assets written to: hand_digit_recognition_final_CNN.model\\assets\n",
      "1/1 [==============================] - 0s 85ms/step - loss: 0.4493 - Accuracy: 1.0000\n",
      "0\n",
      "1\n",
      "2\n",
      "3\n",
      "4\n",
      "5\n",
      "6\n",
      "7\n",
      "8\n",
      "9\n"
     ]
    }
   ],
   "source": [
    "model_CNN.save('hand_digit_recognition_final_CNN.model')\n",
    "model_CNN.evaluate(X_train_CNN,Y_train)\n",
    "predictions= model_CNN.predict([X_train_CNN])\n",
    "for element in predictions:\n",
    "    print(np.argmax(element))"
   ]
  },
  {
   "cell_type": "markdown",
   "metadata": {},
   "source": [
    "## Evaluate CNN on 30 Test Sets"
   ]
  },
  {
   "cell_type": "code",
   "execution_count": 428,
   "metadata": {},
   "outputs": [
    {
     "name": "stdout",
     "output_type": "stream",
     "text": [
      "1/1 [==============================] - 0s 15ms/step - loss: 0.7786 - Accuracy: 0.8667\n",
      "Truth    Predict\n",
      "0         0\n",
      "1         3\n",
      "2         2\n",
      "3         3\n",
      "4         4\n",
      "5         5\n",
      "6         6\n",
      "7         7\n",
      "8         8\n",
      "9         3\n",
      "0         6\n",
      "1         1\n",
      "2         2\n",
      "3         3\n",
      "4         4\n",
      "5         5\n",
      "6         6\n",
      "7         7\n",
      "8         8\n",
      "9         9\n",
      "0         0\n",
      "1         1\n",
      "2         2\n",
      "3         9\n",
      "4         4\n",
      "5         5\n",
      "6         6\n",
      "7         7\n",
      "8         8\n",
      "9         9\n"
     ]
    }
   ],
   "source": [
    "#Reshape the Test Set for CNN\n",
    "\n",
    "X_test_CNN= X_test.reshape(-1,9,5)\n",
    "\n",
    "#evaluate and Predict\n",
    "model_CNN.evaluate(X_test_CNN,Y_test)\n",
    "predictions= model_CNN.predict([X_test_CNN])\n",
    "\n",
    "print(\"Truth    Predict\")\n",
    "for element in range(30):\n",
    "    print(str(int(Y_test[element])) + '         ' +str(np.argmax(predictions[element])))\n",
    "    "
   ]
  }
 ],
 "metadata": {
  "interpreter": {
   "hash": "ad3d2057e3485e7664c5e10ac5e5693c4721a4154da1c3407387f108a7356cd4"
  },
  "kernelspec": {
   "display_name": "Python 3.9.7 64-bit",
   "language": "python",
   "name": "python3"
  },
  "language_info": {
   "codemirror_mode": {
    "name": "ipython",
    "version": 3
   },
   "file_extension": ".py",
   "mimetype": "text/x-python",
   "name": "python",
   "nbconvert_exporter": "python",
   "pygments_lexer": "ipython3",
   "version": "3.9.7"
  },
  "orig_nbformat": 4
 },
 "nbformat": 4,
 "nbformat_minor": 2
}
